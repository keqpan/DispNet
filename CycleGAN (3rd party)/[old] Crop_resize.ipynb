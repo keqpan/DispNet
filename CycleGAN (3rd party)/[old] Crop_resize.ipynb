{
 "cells": [
  {
   "cell_type": "code",
   "execution_count": 1,
   "metadata": {},
   "outputs": [],
   "source": [
    "# import the necessary modules\n",
    "%matplotlib inline\n",
    "from PIL import Image\n",
    "import numpy as np\n",
    "import os\n",
    "from tqdm import tqdm"
   ]
  },
  {
   "cell_type": "markdown",
   "metadata": {},
   "source": [
    "## Left"
   ]
  },
  {
   "cell_type": "code",
   "execution_count": 3,
   "metadata": {},
   "outputs": [
    {
     "name": "stderr",
     "output_type": "stream",
     "text": [
      "100%|██████████| 7481/7481 [03:58<00:00, 31.43it/s]\n"
     ]
    }
   ],
   "source": [
    "#7481\n",
    "raw_data_path = \"raw_datasets/fake2real/\" + \"train/\"\n",
    "data_path = \"datasets/fake2real/\" + \"train/\"\n",
    "for file in tqdm(os.listdir(raw_data_path + \"A/\")): #KITTI\n",
    "    real_pic = Image.open(raw_data_path + \"A/\" + file)\n",
    "    cropped = real_pic.crop((256, 0, 878, 375))\n",
    "    cropped = cropped.resize((512, 256),0)\n",
    "    cropped.save(data_path + 'A/'+ file)"
   ]
  },
  {
   "cell_type": "code",
   "execution_count": 4,
   "metadata": {},
   "outputs": [
    {
     "name": "stderr",
     "output_type": "stream",
     "text": [
      "100%|██████████| 3600/3600 [03:48<00:00, 15.74it/s]\n"
     ]
    }
   ],
   "source": [
    "#3600\n",
    "raw_data_path = \"raw_datasets/fake2real/\" + \"train/\"\n",
    "data_path = \"datasets/fake2real/\" + \"train/\"\n",
    "for file in tqdm(os.listdir(raw_data_path + \"/B\")): #Driving\n",
    "    real_pic = Image.open(raw_data_path + \"B/\" + file)\n",
    "    cropped = real_pic.resize((878, 494),0)\n",
    "    cropped = cropped.crop((0, 66, 878, 375))\n",
    "    cropped = cropped.resize((512, 256),0)\n",
    "    cropped.save(data_path + \"B/\" + file)"
   ]
  },
  {
   "cell_type": "code",
   "execution_count": 5,
   "metadata": {},
   "outputs": [
    {
     "name": "stderr",
     "output_type": "stream",
     "text": [
      "100%|██████████| 7518/7518 [03:58<00:00, 31.49it/s]\n"
     ]
    }
   ],
   "source": [
    "#7518\n",
    "mode = \"test/\"\n",
    "dataset = \"A/\"\n",
    "\n",
    "raw_data_path = \"raw_datasets/fake2real/\" + mode\n",
    "data_path = \"datasets/fake2real/\" + mode\n",
    "for file in tqdm(os.listdir(raw_data_path + dataset)): #KITTI\n",
    "    real_pic = Image.open(raw_data_path + dataset + file)\n",
    "    cropped = real_pic.crop((256, 0, 878, 375))\n",
    "    cropped = cropped.resize((512, 256),0)\n",
    "    cropped.save(data_path + dataset + file)"
   ]
  },
  {
   "cell_type": "code",
   "execution_count": 6,
   "metadata": {},
   "outputs": [
    {
     "name": "stderr",
     "output_type": "stream",
     "text": [
      "100%|██████████| 700/700 [00:45<00:00, 15.53it/s]\n"
     ]
    }
   ],
   "source": [
    "#700\n",
    "mode = \"test/\"\n",
    "dataset = \"B/\"\n",
    "\n",
    "raw_data_path = \"raw_datasets/fake2real/\" + mode\n",
    "data_path = \"datasets/fake2real/\" + mode\n",
    "for file in tqdm(os.listdir(raw_data_path + dataset)): #Driving\n",
    "    real_pic = Image.open(raw_data_path + dataset + file)\n",
    "    cropped = real_pic.resize((878, 494),0)\n",
    "    cropped = cropped.crop((0, 66, 878, 375))\n",
    "    cropped = cropped.resize((512, 256),0)\n",
    "    cropped.save(data_path + dataset + file)"
   ]
  },
  {
   "cell_type": "markdown",
   "metadata": {},
   "source": [
    "## Left vKITTI"
   ]
  },
  {
   "cell_type": "code",
   "execution_count": 4,
   "metadata": {},
   "outputs": [
    {
     "name": "stderr",
     "output_type": "stream",
     "text": [
      "\n",
      "  0%|          | 0/837 [00:00<?, ?it/s]\u001b[A\n",
      "  0%|          | 4/837 [00:00<00:28, 29.10it/s]\u001b[A\n",
      "  1%|          | 7/837 [00:00<00:28, 28.97it/s]\u001b[A\n",
      "  1%|          | 10/837 [00:00<00:28, 28.70it/s]\u001b[A\n",
      "  2%|▏         | 14/837 [00:00<00:28, 29.07it/s]\u001b[A\n",
      "  2%|▏         | 17/837 [00:00<00:28, 29.13it/s]\u001b[A\n",
      "  2%|▏         | 20/837 [00:00<00:28, 29.15it/s]\u001b[A\n",
      "  3%|▎         | 23/837 [00:00<00:27, 29.12it/s]\u001b[A\n",
      "  3%|▎         | 27/837 [00:00<00:27, 29.37it/s]\u001b[A\n",
      "  4%|▎         | 31/837 [00:01<00:27, 29.66it/s]\u001b[A\n",
      "  4%|▍         | 35/837 [00:01<00:27, 29.67it/s]\u001b[A\n",
      "  5%|▍         | 39/837 [00:01<00:26, 30.19it/s]\u001b[A\n",
      "  5%|▌         | 43/837 [00:01<00:26, 29.98it/s]\u001b[A\n",
      "  6%|▌         | 47/837 [00:01<00:26, 29.73it/s]\u001b[A\n",
      "  6%|▌         | 50/837 [00:01<00:26, 29.67it/s]\u001b[A\n",
      "  6%|▋         | 53/837 [00:01<00:26, 29.61it/s]\u001b[A\n",
      "100%|██████████| 837/837 [00:28<00:00, 28.96it/s]\n",
      "100%|██████████| 233/233 [00:09<00:00, 23.90it/s]\n",
      "100%|██████████| 270/270 [00:11<00:00, 23.26it/s]\n",
      "100%|██████████| 447/447 [00:19<00:00, 23.25it/s]\n",
      "100%|██████████| 339/339 [00:13<00:00, 25.02it/s]\n"
     ]
    }
   ],
   "source": [
    "#2126\n",
    "vkitti_l_path = 'datasets/left/'\n",
    "i = 0\n",
    "for dirname in os.listdir('datasets/left/'):\n",
    "    curr_dir = vkitti_l_path + dirname +'/'\n",
    "    for file in tqdm(os.listdir(curr_dir)):\n",
    "        real_pic = Image.open(curr_dir + file)\n",
    "        cropped = real_pic.crop((256, 0, 878, 375))\n",
    "        cropped = cropped.resize((512, 256),0)\n",
    "        cropped.save('datasets/vkitti/' + str(i)+'.png')\n",
    "        i+=1"
   ]
  },
  {
   "cell_type": "code",
   "execution_count": 7,
   "metadata": {},
   "outputs": [],
   "source": [
    "import random\n",
    "\n",
    "filenames = os.listdir('datasets/vkitti/')\n",
    "random.shuffle(filenames)\n",
    "\n",
    "train_vkitti, test_vkitti = filenames[:1800], filenames[1800:]"
   ]
  },
  {
   "cell_type": "code",
   "execution_count": 11,
   "metadata": {},
   "outputs": [
    {
     "name": "stderr",
     "output_type": "stream",
     "text": [
      "100%|██████████| 1800/1800 [00:00<00:00, 4757.74it/s]\n"
     ]
    }
   ],
   "source": [
    "import shutil\n",
    "\n",
    "mode = \"train/\"\n",
    "raw_data_path = \"datasets/vkitti/\"\n",
    "data_path = \"datasets/fake2real/\" + mode\n",
    "for file in tqdm(train_vkitti): #Driving\n",
    "    shutil.copy2(raw_data_path + file, data_path + \"A/\" + file)"
   ]
  },
  {
   "cell_type": "code",
   "execution_count": 13,
   "metadata": {},
   "outputs": [
    {
     "name": "stderr",
     "output_type": "stream",
     "text": [
      "100%|██████████| 326/326 [00:00<00:00, 1288.25it/s]\n"
     ]
    }
   ],
   "source": [
    "import shutil\n",
    "\n",
    "mode = \"test/\"\n",
    "raw_data_path = \"datasets/vkitti/\"\n",
    "data_path = \"datasets/fake2real/\" + mode\n",
    "for file in tqdm(test_vkitti): #Driving\n",
    "    shutil.copy2(raw_data_path + file, data_path + \"A/\" + file)"
   ]
  },
  {
   "cell_type": "code",
   "execution_count": null,
   "metadata": {},
   "outputs": [],
   "source": []
  }
 ],
 "metadata": {
  "kernelspec": {
   "display_name": "Python 3",
   "language": "python",
   "name": "python3"
  },
  "language_info": {
   "codemirror_mode": {
    "name": "ipython",
    "version": 3
   },
   "file_extension": ".py",
   "mimetype": "text/x-python",
   "name": "python",
   "nbconvert_exporter": "python",
   "pygments_lexer": "ipython3",
   "version": "3.6.5"
  }
 },
 "nbformat": 4,
 "nbformat_minor": 2
}
